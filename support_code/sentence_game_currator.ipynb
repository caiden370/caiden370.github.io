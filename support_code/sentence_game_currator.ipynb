{
 "cells": [
  {
   "cell_type": "code",
   "execution_count": 64,
   "metadata": {},
   "outputs": [],
   "source": [
    "original_sentences = [\n",
    "    \"I want to be happy\",\n",
    "    \"I am happy\",\n",
    "    \"I want\",\n",
    "    \"I will be happy\",\n",
    "    \"I am singing\",\n",
    "    \"I'm singing\",\n",
    "    \"I want to be there\",\n",
    "    \"are you happy\",\n",
    "    \"what makes you sad\",\n",
    "    \"I will believe in being happy\",\n",
    "    \"I want to order food\",\n",
    "    \"Water please\",\n",
    "    \"I need to eat\",\n",
    "    \"I want to eat food\",\n",
    "    \"I want to eat an apple\",\n",
    "    \"What do you want to eat\",\n",
    "    \"What are you eating\",\n",
    "    \"I need a banana\",\n",
    "    \"I want an apple\",\n",
    "    \"I want to sing\",\n",
    "    \"I am eating\",\n",
    "    \"I want to eat a banana\",\n",
    "    \"I am\"\n",
    "]"
   ]
  },
  {
   "cell_type": "code",
   "execution_count": 70,
   "metadata": {},
   "outputs": [
    {
     "name": "stdout",
     "output_type": "stream",
     "text": [
      "2300\n"
     ]
    }
   ],
   "source": [
    "\n",
    "test_sentences = []\n",
    "for i in range(100):\n",
    "    for sentence in original_sentences:\n",
    "        test_sentences.append(sentence)\n",
    "print(len(test_sentences))\n",
    "\n"
   ]
  },
  {
   "cell_type": "code",
   "execution_count": 71,
   "metadata": {},
   "outputs": [
    {
     "ename": "KeyboardInterrupt",
     "evalue": "",
     "output_type": "error",
     "traceback": [
      "\u001b[0;31m---------------------------------------------------------------------------\u001b[0m",
      "\u001b[0;31mKeyboardInterrupt\u001b[0m                         Traceback (most recent call last)",
      "Cell \u001b[0;32mIn[71], line 36\u001b[0m\n\u001b[1;32m     34\u001b[0m     \u001b[39mcontinue\u001b[39;00m\n\u001b[1;32m     35\u001b[0m C \u001b[39m=\u001b[39m group[\u001b[39m0\u001b[39m]\u001b[39m.\u001b[39munion(\u001b[39mset\u001b[39m(sA\u001b[39m.\u001b[39msplit(\u001b[39m'\u001b[39m\u001b[39m \u001b[39m\u001b[39m'\u001b[39m)))\n\u001b[0;32m---> 36\u001b[0m \u001b[39mif\u001b[39;00m \u001b[39mlen\u001b[39;49m(C) \u001b[39m==\u001b[39m \u001b[39mlen\u001b[39m(group[\u001b[39m0\u001b[39m]):\n\u001b[1;32m     37\u001b[0m     group[\u001b[39m1\u001b[39m]\u001b[39m.\u001b[39mappend(sA)\n\u001b[1;32m     38\u001b[0m     group[\u001b[39m2\u001b[39m]\u001b[39m.\u001b[39madd(i)\n",
      "\u001b[0;31mKeyboardInterrupt\u001b[0m: "
     ]
    }
   ],
   "source": [
    "K = 3\n",
    "max_set_size = 10\n",
    "groups = []\n",
    "for i, sA in enumerate(test_sentences):\n",
    "    sA = sA.lower()\n",
    "    new_set = set(sA.split(' '))\n",
    "    sentences = [sA]\n",
    "    indices = set([i])\n",
    "    for j, sB in enumerate(test_sentences):\n",
    "        if i == j:\n",
    "            continue\n",
    "        sB = sB.lower()\n",
    "        B = set(sB.split(' '))\n",
    "        C = new_set.union(B)\n",
    "        if len(new_set) + K > len(C):\n",
    "            new_set = C\n",
    "            sentences.append(sB)\n",
    "            indices.add(j)\n",
    "        if len(new_set) > max_set_size:\n",
    "            groups.append([new_set, sentences, indices])\n",
    "            sA = sA.lower()\n",
    "            new_set = set(sA.split(' '))\n",
    "            sentences = [sA]\n",
    "            indices = set([i])\n",
    "    groups.append([new_set, sentences, indices])\n",
    "\n",
    "\n",
    "\n",
    "final_groups = []\n",
    "for i, sA in enumerate(test_sentences):\n",
    "    for group in groups:\n",
    "\n",
    "        if i in group[2]:\n",
    "            continue\n",
    "        C = group[0].union(set(sA.split(' ')))\n",
    "        if len(C) == len(group[0]):\n",
    "            group[1].append(sA)\n",
    "            group[2].add(i)\n",
    "            final_groups.append(group)\n",
    "\n",
    "\n",
    "\n"
   ]
  },
  {
   "cell_type": "code",
   "execution_count": 40,
   "metadata": {},
   "outputs": [
    {
     "name": "stdout",
     "output_type": "stream",
     "text": [
      "[{'what', 'water', 'i', 'are', 'please', 'eating', 'happy', 'singing', \"i'm\", 'you', 'am'}, ['i am eating', \"i'm singing\", 'water please', 'i am happy', 'i am singing', 'are you happy', 'what are you eating'], {1, 2, 11, 13, 17, 18, 20}]\n",
      "[{'what', 'water', 'i', 'are', 'please', 'eating', 'happy', 'singing', \"i'm\", 'you', 'am'}, ['i am happy', \"i'm singing\", 'i am eating', 'water please', 'i am singing', 'are you happy', 'what are you eating'], {1, 2, 11, 13, 17, 18, 20}]\n",
      "[{'what', 'water', 'i', 'are', 'please', 'eating', 'happy', 'singing', \"i'm\", 'you', 'am'}, ['i am singing', \"i'm singing\", 'i am eating', 'water please', 'i am happy', 'are you happy', 'what are you eating'], {1, 2, 11, 13, 17, 18, 20}]\n",
      "[{'what', 'are', 'water', 'i', 'please', 'eating', 'happy', 'singing', \"i'm\", 'you', 'am'}, ['are you happy', \"i'm singing\", 'water please', 'i am happy', 'i am singing', 'what are you eating'], {1, 11, 13, 17, 18, 20}]\n"
     ]
    }
   ],
   "source": [
    "for group in groups:\n",
    "    if len(group[2]) > 5:\n",
    "        print(group)\n",
    "    "
   ]
  }
 ],
 "metadata": {
  "kernelspec": {
   "display_name": "caiden1",
   "language": "python",
   "name": "python3"
  },
  "language_info": {
   "codemirror_mode": {
    "name": "ipython",
    "version": 3
   },
   "file_extension": ".py",
   "mimetype": "text/x-python",
   "name": "python",
   "nbconvert_exporter": "python",
   "pygments_lexer": "ipython3",
   "version": "3.10.10"
  },
  "orig_nbformat": 4
 },
 "nbformat": 4,
 "nbformat_minor": 2
}
